{
 "cells": [
  {
   "cell_type": "code",
   "execution_count": 1,
   "id": "3c3c8b22",
   "metadata": {},
   "outputs": [],
   "source": [
    "arquivo = r\"C:\\Users\\usuario\\OneDrive\\Área de Trabalho\\programas\\OBRAS MACHADO DE ASSIS\\raw\\txt\\romance\\memoriasBras.txt\"\n",
    "with open(arquivo,'r',encoding='utf-8')as f:\n",
    "    texto = f.read()"
   ]
  },
  {
   "cell_type": "code",
   "execution_count": 2,
   "id": "1536d0dd",
   "metadata": {},
   "outputs": [],
   "source": [
    "char = sorted(list(set(texto)))"
   ]
  },
  {
   "cell_type": "code",
   "execution_count": 3,
   "id": "584c6a57",
   "metadata": {},
   "outputs": [],
   "source": [
    "stoi = {ch:i for i,ch in enumerate(char)}\n",
    "itos = {i:ch for i,ch in enumerate(char)}\n",
    "\n",
    "encode = lambda s: [stoi[c] for c in s]\n",
    "decode = lambda l: ''.join([itos[i] for i in l])\n",
    "tensorlist = lambda v: [t.item() for t in v]"
   ]
  },
  {
   "cell_type": "code",
   "execution_count": 4,
   "id": "ee932704",
   "metadata": {},
   "outputs": [
    {
     "name": "stdout",
     "output_type": "stream",
     "text": [
      "torch.Size([354375]) torch.int64\n",
      "<generator object <genexpr> at 0x000001E615D91700>\n"
     ]
    }
   ],
   "source": [
    "import torch\n",
    "data = torch.tensor(encode(texto),dtype=torch.long)\n",
    "print(data.shape, data.dtype)\n",
    "print(decode(i) for i in data[:1000])"
   ]
  },
  {
   "cell_type": "code",
   "execution_count": 5,
   "id": "cb32b95b",
   "metadata": {},
   "outputs": [],
   "source": [
    "n = int(0.9*len(data))\n",
    "train_data = data[:n]\n",
    "val_data = data[n:]"
   ]
  },
  {
   "cell_type": "code",
   "execution_count": 6,
   "id": "121cb3c1",
   "metadata": {},
   "outputs": [
    {
     "data": {
      "text/plain": [
       "tensor([ 36,  53,  61, 100,  66,  57,  49,  67,   1])"
      ]
     },
     "execution_count": 6,
     "metadata": {},
     "output_type": "execute_result"
    }
   ],
   "source": [
    "block_size = 8\n",
    "train_data[:block_size+1]"
   ]
  },
  {
   "cell_type": "code",
   "execution_count": 7,
   "id": "22f9dffe",
   "metadata": {},
   "outputs": [
    {
     "name": "stdout",
     "output_type": "stream",
     "text": [
      "inputs___________________________\n",
      "torch.Size([4, 8])\n",
      "tensor([[  1,  52, 103,  70,  57,  52,  49,   0],\n",
      "        [  1,  70,  57,  49,   1,  49,  63,   1],\n",
      "        [ 66,  53,  68,  63,  66,  65,  69,  57],\n",
      "        [  0,  62,  69,  62,  51,  49,   1,  58]])\n",
      "\n",
      "target___________________________\n",
      "torch.Size([4, 8])\n",
      "tensor([[ 52, 103,  70,  57,  52,  49,   0,  66],\n",
      "        [ 70,  57,  49,   1,  49,  63,   1,  60],\n",
      "        [ 53,  68,  63,  66,  65,  69,  57,  49],\n",
      "        [ 62,  69,  62,  51,  49,   1,  58,  49]])\n",
      "\n",
      "=====================\n",
      "\n",
      "quando o input é [1] o alvo é 52\n",
      "quando o input é [1, 52] o alvo é 103\n",
      "quando o input é [1, 52, 103] o alvo é 70\n",
      "quando o input é [1, 52, 103, 70] o alvo é 57\n",
      "quando o input é [1, 52, 103, 70, 57] o alvo é 52\n",
      "quando o input é [1, 52, 103, 70, 57, 52] o alvo é 49\n",
      "quando o input é [1, 52, 103, 70, 57, 52, 49] o alvo é 0\n",
      "quando o input é [1, 52, 103, 70, 57, 52, 49, 0] o alvo é 66\n",
      "quando o input é [1] o alvo é 70\n",
      "quando o input é [1, 70] o alvo é 57\n",
      "quando o input é [1, 70, 57] o alvo é 49\n",
      "quando o input é [1, 70, 57, 49] o alvo é 1\n",
      "quando o input é [1, 70, 57, 49, 1] o alvo é 49\n",
      "quando o input é [1, 70, 57, 49, 1, 49] o alvo é 63\n",
      "quando o input é [1, 70, 57, 49, 1, 49, 63] o alvo é 1\n",
      "quando o input é [1, 70, 57, 49, 1, 49, 63, 1] o alvo é 60\n",
      "quando o input é [66] o alvo é 53\n",
      "quando o input é [66, 53] o alvo é 68\n",
      "quando o input é [66, 53, 68] o alvo é 63\n",
      "quando o input é [66, 53, 68, 63] o alvo é 66\n",
      "quando o input é [66, 53, 68, 63, 66] o alvo é 65\n",
      "quando o input é [66, 53, 68, 63, 66, 65] o alvo é 69\n",
      "quando o input é [66, 53, 68, 63, 66, 65, 69] o alvo é 57\n",
      "quando o input é [66, 53, 68, 63, 66, 65, 69, 57] o alvo é 49\n",
      "quando o input é [0] o alvo é 62\n",
      "quando o input é [0, 62] o alvo é 69\n",
      "quando o input é [0, 62, 69] o alvo é 62\n",
      "quando o input é [0, 62, 69, 62] o alvo é 51\n",
      "quando o input é [0, 62, 69, 62, 51] o alvo é 49\n",
      "quando o input é [0, 62, 69, 62, 51, 49] o alvo é 1\n",
      "quando o input é [0, 62, 69, 62, 51, 49, 1] o alvo é 58\n",
      "quando o input é [0, 62, 69, 62, 51, 49, 1, 58] o alvo é 49\n"
     ]
    }
   ],
   "source": [
    "torch.manual_seed(42)\n",
    "batch_size = 4\n",
    "block_size = 8\n",
    "\n",
    "def get_batch(split):\n",
    "    data = train_data if split == 'train' else val_data\n",
    "    ix = torch.randint(len(data) - block_size, (batch_size,))\n",
    "    x = torch.stack([data[i:i+block_size] for i in ix])\n",
    "    y = torch.stack([data[i+1:i+block_size+1] for i in ix])\n",
    "    return x,y\n",
    "\n",
    "xb, yb = get_batch('train')\n",
    "print('inputs___________________________')\n",
    "print(xb.shape)\n",
    "print(xb)\n",
    "print()\n",
    "print('target___________________________')\n",
    "print(yb.shape)\n",
    "print(yb)\n",
    "print()\n",
    "print(\"=====================\")\n",
    "print()\n",
    "\n",
    "for b in range(batch_size):\n",
    "    for t in range(block_size):\n",
    "        context = xb[b,:t+1]\n",
    "        target = yb[b,t]\n",
    "        print(f\"quando o input é {context.tolist()} o alvo é {target}\")\n",
    "\n"
   ]
  },
  {
   "cell_type": "code",
   "execution_count": 8,
   "id": "fc3e6d1e",
   "metadata": {},
   "outputs": [
    {
     "ename": "NameError",
     "evalue": "name 'vocab_size' is not defined",
     "output_type": "error",
     "traceback": [
      "\u001b[1;31m---------------------------------------------------------------------------\u001b[0m",
      "\u001b[1;31mNameError\u001b[0m                                 Traceback (most recent call last)",
      "Cell \u001b[1;32mIn[8], line 15\u001b[0m\n\u001b[0;32m     12\u001b[0m         logits \u001b[38;5;241m=\u001b[39m \u001b[38;5;28mself\u001b[39m\u001b[38;5;241m.\u001b[39mtoken_embedding_table(idx)\n\u001b[0;32m     13\u001b[0m         \u001b[38;5;28;01mreturn\u001b[39;00m logits\n\u001b[1;32m---> 15\u001b[0m m \u001b[38;5;241m=\u001b[39m BigramLanguageModel(\u001b[43mvocab_size\u001b[49m)\n\u001b[0;32m     16\u001b[0m out \u001b[38;5;241m=\u001b[39m m(xb,yb)\n\u001b[0;32m     17\u001b[0m \u001b[38;5;28mprint\u001b[39m(out\u001b[38;5;241m.\u001b[39mshape)\n",
      "\u001b[1;31mNameError\u001b[0m: name 'vocab_size' is not defined"
     ]
    }
   ],
   "source": [
    "import torch.nn as nn\n",
    "from torch.nn import functional as F\n",
    "torch.manual_seed(42)\n",
    "\n",
    "class BigramLanguageModel(nn.Module):\n",
    "    \n",
    "    def __int__(self, vocab_size):\n",
    "        super().__int__()\n",
    "        self.token_embedding_table = nn.Embedding(vocab_size,vocab_size)\n",
    "        \n",
    "    def forward(self, idx, targets):\n",
    "        logits = self.token_embedding_table(idx)\n",
    "        return logits\n",
    "\n",
    "m = BigramLanguageModel(vocab_size)\n",
    "out = m(xb,yb)\n",
    "print(out.shape)"
   ]
  },
  {
   "cell_type": "code",
   "execution_count": null,
   "id": "2011b509",
   "metadata": {},
   "outputs": [],
   "source": []
  },
  {
   "cell_type": "code",
   "execution_count": null,
   "id": "5f164c32",
   "metadata": {},
   "outputs": [],
   "source": []
  },
  {
   "cell_type": "code",
   "execution_count": null,
   "id": "4ed0d955",
   "metadata": {},
   "outputs": [],
   "source": []
  },
  {
   "cell_type": "code",
   "execution_count": null,
   "id": "cb33e896",
   "metadata": {},
   "outputs": [],
   "source": []
  },
  {
   "cell_type": "code",
   "execution_count": null,
   "id": "776d2780",
   "metadata": {},
   "outputs": [],
   "source": []
  },
  {
   "cell_type": "code",
   "execution_count": null,
   "id": "8beff70e",
   "metadata": {},
   "outputs": [],
   "source": []
  }
 ],
 "metadata": {
  "kernelspec": {
   "display_name": "Python 3 (ipykernel)",
   "language": "python",
   "name": "python3"
  },
  "language_info": {
   "codemirror_mode": {
    "name": "ipython",
    "version": 3
   },
   "file_extension": ".py",
   "mimetype": "text/x-python",
   "name": "python",
   "nbconvert_exporter": "python",
   "pygments_lexer": "ipython3",
   "version": "3.10.9"
  }
 },
 "nbformat": 4,
 "nbformat_minor": 5
}
